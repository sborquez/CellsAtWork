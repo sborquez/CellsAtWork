{
 "cells": [
  {
   "cell_type": "markdown",
   "metadata": {},
   "source": [
    "# Retina Net \n",
    "\n",
    "En este documento se aplicará el modelo Retina Net, el cual es una mejora del algoritmo Faster RCNN. Este algoritmo descrito [aquí](https://arxiv.org/pdf/1708.02002.pdf) fué implementado usando el framework de DL Keras. Utilizaremos la implementación que se encuentra en [este repositorio](https://github.com/fizyr/keras-retinanet)"
   ]
  },
  {
   "cell_type": "code",
   "execution_count": 1,
   "metadata": {},
   "outputs": [],
   "source": [
    "from keras_retinanet.models import load_model"
   ]
  },
  {
   "cell_type": "code",
   "execution_count": null,
   "metadata": {},
   "outputs": [],
   "source": []
  }
 ],
 "metadata": {
  "kernelspec": {
   "display_name": "Python 3",
   "language": "python",
   "name": "python3"
  },
  "language_info": {
   "codemirror_mode": {
    "name": "ipython",
    "version": 3
   },
   "file_extension": ".py",
   "mimetype": "text/x-python",
   "name": "python",
   "nbconvert_exporter": "python",
   "pygments_lexer": "ipython3",
   "version": "3.6.7"
  }
 },
 "nbformat": 4,
 "nbformat_minor": 2
}
